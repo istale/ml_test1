{
 "cells": [
  {
   "cell_type": "code",
   "execution_count": 1,
   "metadata": {},
   "outputs": [],
   "source": [
    "%matplotlib inline"
   ]
  },
  {
   "cell_type": "code",
   "execution_count": 2,
   "metadata": {
    "scrolled": false
   },
   "outputs": [
    {
     "name": "stdout",
     "output_type": "stream",
     "text": [
      "[-2.26063857  6.33066635 -1.96572193  4.4297391   4.49004243 -2.15092348\n",
      " -2.6482289  -2.05404648 -1.52765375  4.88983481 -1.70631972  4.6563974\n",
      " -1.90636271 -2.36103077  4.60377766 -2.1276835  -2.10990681  5.11691041\n",
      "  5.96466641 -1.85175507  5.21056861  5.02483041 -1.63289163  5.68273678\n",
      "  5.22032387  5.48598156  5.18386997  4.30365795 -2.47907283  5.6299763 ]\n",
      "\n",
      "\n",
      "[-0.65940069 -0.         -1.7684331  -0.         -0.         -3.38982604\n",
      " -2.44676165 -1.927444   -1.80067726 -0.         -2.12067955 -0.\n",
      " -2.32883361 -2.06472832 -0.         -2.37034572 -2.28375023 -0.         -0.\n",
      " -2.12125936 -0.         -0.         -0.86348534 -0.         -0.         -0.\n",
      " -0.         -0.         -1.01210578 -0.        ]\n",
      "[ 0.          2.983793    0.          1.19322932  1.73704118  0.          0.\n",
      "  0.          0.          2.29988205  0.          2.53600919 -0.          0.\n",
      "  1.09348252  0.          0.          3.47862157  1.83870448  0.\n",
      "  1.74535707  2.36227456  0.          3.21813765  3.27630334  2.46274312\n",
      "  3.05510892  2.05594413  0.          1.10518816]\n",
      "\n",
      "\n",
      "[-0.65940069  2.983793   -1.7684331   1.19322932  1.73704118 -3.38982604\n",
      " -2.44676165 -1.927444   -1.80067726  2.29988205 -2.12067955  2.53600919\n",
      " -2.32883361 -2.06472832  1.09348252 -2.37034572 -2.28375023  3.47862157\n",
      "  1.83870448 -2.12125936  1.74535707  2.36227456 -0.86348534  3.21813765\n",
      "  3.27630334  2.46274312  3.05510892  2.05594413 -1.01210578  1.10518816]\n",
      "[[ 5.13899875]\n",
      " [-2.05587401]]\n"
     ]
    },
    {
     "data": {
      "image/png": "[encoded data removed]",
      "text/plain": [
       "<matplotlib.figure.Figure at 0x7fb94d291a90>"
      ]
     },
     "metadata": {},
     "output_type": "display_data"
    }
   ],
   "source": [
    "# https://stackoverflow.com/questions/42149979/determining-a-threshold-value-for-a-bimodal-distribution-via-kmeans-clustering\n",
    "import numpy as np\n",
    "import matplotlib.pyplot as plt\n",
    "np.random.seed(45)\n",
    "n = 30;\n",
    "b = n//10;\n",
    "i = np.random.randint(0,2,n)\n",
    "#print(i)\n",
    "x = i*np.random.normal(-2.0,0.4,n) + (1-i)*np.random.normal(5.0,0.8,n)\n",
    "print(x)\n",
    "print('\\n')\n",
    "\n",
    "xx = i*np.random.normal(-2.0,0.8,n)\n",
    "print(xx)\n",
    "yy = (1-i)*np.random.normal(2.0,0.8,n)\n",
    "print(yy)\n",
    "print('\\n')\n",
    "xxyy = xx + yy\n",
    "print(xx + yy)\n",
    "x = np.array ([-2.26063857,  6.33066635, -1.96572193,  4.4297391,   4.49004243, -2.15092348, \\\n",
    " -2.6482289,  -2.05404648, -1.52765375,  4.88983481, -1.70631972,  4.6563974, \\\n",
    " -1.90636271, -2.36103077,  4.60377766, -2.1276835,  -2.10990681,  5.11691041, \\\n",
    "  5.96466641, -1.85175507,  5.21056861,  5.02483041, -1.63289163,  5.68273678, \\\n",
    "  5.22032387,  5.48598156,  5.18386997,  4.30365795, -2.47907283,  5.6299763 ] )\n",
    "\n",
    "_ = plt.hist(x,bins=b)\n",
    "\n",
    "from sklearn.cluster import KMeans\n",
    "h = np.histogram(x,bins=b)\n",
    "h = np.vstack((0.5*(h[1][:-1]+h[1][1:]),h[0])).T  # because h[0] and h[1] have different sizes.\n",
    "\n",
    "kmeans = KMeans(n_clusters=2).fit(x.reshape(n,1))\n",
    "#kmeans = KMeans().fit(x.reshape(n,1))\n",
    "print(kmeans.cluster_centers_)"
   ]
  }
 ],
 "metadata": {
  "kernelspec": {
   "display_name": "Python [conda env:anaconda3]",
   "language": "python",
   "name": "conda-env-anaconda3-py"
  },
  "language_info": {
   "codemirror_mode": {
    "name": "ipython",
    "version": 3
   },
   "file_extension": ".py",
   "mimetype": "text/x-python",
   "name": "python",
   "nbconvert_exporter": "python",
   "pygments_lexer": "ipython3",
   "version": "3.6.4"
  }
 },
 "nbformat": 4,
 "nbformat_minor": 2
}
